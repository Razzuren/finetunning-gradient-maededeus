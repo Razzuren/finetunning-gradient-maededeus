{
 "cells": [
  {
   "cell_type": "markdown",
   "source": [
    "# Install Dependencies"
   ],
   "metadata": {
    "collapsed": false
   }
  },
  {
   "cell_type": "code",
   "execution_count": 17,
   "outputs": [
    {
     "name": "stdout",
     "output_type": "stream",
     "text": [
      "Requirement already up-to-date: gradientai in /home/razzuren/.local/lib/python3.8/site-packages (1.11.0)\r\n",
      "Requirement already satisfied, skipping upgrade: python-dateutil>=2.8.2 in /home/razzuren/.local/lib/python3.8/site-packages (from gradientai) (2.9.0.post0)\r\n",
      "Requirement already satisfied, skipping upgrade: pydantic<2.0.0,>=1.10.5 in /home/razzuren/.local/lib/python3.8/site-packages (from gradientai) (1.10.15)\r\n",
      "Requirement already satisfied, skipping upgrade: urllib3>=1.25.3 in /usr/lib/python3/dist-packages (from gradientai) (1.25.8)\r\n",
      "Requirement already satisfied, skipping upgrade: aenum>=3.1.11 in /home/razzuren/.local/lib/python3.8/site-packages (from gradientai) (3.1.15)\r\n",
      "Requirement already satisfied, skipping upgrade: six>=1.5 in /usr/lib/python3/dist-packages (from python-dateutil>=2.8.2->gradientai) (1.14.0)\r\n",
      "Requirement already satisfied, skipping upgrade: typing-extensions>=4.2.0 in /home/razzuren/.local/lib/python3.8/site-packages (from pydantic<2.0.0,>=1.10.5->gradientai) (4.7.1)\r\n"
     ]
    }
   ],
   "source": [
    "!pip3 install gradientai --upgrade"
   ],
   "metadata": {
    "collapsed": false
   }
  },
  {
   "cell_type": "markdown",
   "source": [
    "# Set env properties, instantiate model"
   ],
   "metadata": {
    "collapsed": false
   }
  },
  {
   "cell_type": "code",
   "execution_count": 1,
   "outputs": [
    {
     "name": "stdout",
     "output_type": "stream",
     "text": [
      "Set\n"
     ]
    }
   ],
   "source": [
    "import os\n",
    "import constants\n",
    "os.environ['GRADIENT_ACCESS_TOKEN'] = constants.GRADIENT_ACCESS_TOKEN\n",
    "os.environ['GRADIENT_WORKSPACE_ID'] = constants.GRADIENT_WORKSPACE_ID\n",
    "from gradientai import Gradient\n",
    "\n",
    "with Gradient() as gradient:\n",
    "  base_model = gradient.get_base_model(base_model_slug=\"nous-hermes2\")\n",
    "  model_motherofgod = base_model.create_model_adapter(\n",
    "      name=\"model-motherofgod-v1\"\n",
    "  )\n",
    "  rag_collection = gradient.create_rag_collection(\n",
    "  name=\"Simple with text files\",\n",
    "  slug=\"bge-large\",\n",
    "  filepaths=[\n",
    "    \"data/data.txt\",\n",
    "  ],\n",
    ")\n",
    "  print(\"Set\")"
   ],
   "metadata": {
    "collapsed": false
   }
  },
  {
   "cell_type": "markdown",
   "source": [
    "# Pure Retrieval"
   ],
   "metadata": {
    "collapsed": false
   }
  },
  {
   "cell_type": "code",
   "execution_count": 13,
   "outputs": [
    {
     "name": "stdout",
     "output_type": "stream",
     "text": [
      "Created model adapter with id b02e4449-a7a0-4219-884c-3e9594705b10_model_adapter\n",
      "Generated: \n",
      " Anamnese:\n",
      "\n",
      "Paciente feminina de 68 anos, de etnia branca, relata tosse produtiva com escarro hialino, dispneia aos médios esforços há mais de 20 anos, com piora nos últimos 2 meses, manifestando-se ao repouso e em posição ortostática. Nega febre e alteração da tosse. Histórico pessoal de tabagista de um maço por dia há 60 anos, com dois episódios de pneumonia, sendo o último há 2 semanas, tratado em domicílio. Nega hipertensão arterial sistêmica e uso de medicamentos.\n",
      "\n",
      "No exame físico, apresenta cor cianótica, pressão arterial 90x50 mmHg, pulso 100 bpm, frequência respiratória 37 movimentos/min, temperatura afebril, estase jugular presente a 45°, oictus cordis não palpável. Ausculta cardíaca com sopro sistólico + em foco mitral, aumentado à manobra de Valsalva, e sopro sistólico ++ em foco tricúspide, aumentado à manobra de Rivero-Carvalho. Tórax com aumento do diâmetro ântero-posterior, som hipersonoro à percussão, murmúrio vesicular diminuído globalmente, estertores subcrepitantes presentes em bases e campos médios. Abdome com fígado palpável a 3 cm do arco costal em linha hemiclavicular direita, endurecido + e indolor. Edema de membros inferiores ausente.\n",
      "\n",
      "Exames laboratoriais apresentam anemia normocítica normocrômica (eritrócitos: 3,56 x 10^6/mm³, hemoglobina: 11,2 g/dL, hematócrito: 33,4%, VCM: 94 µm³), leucocitose com neutrofilia e metamielocitose (leucócitos: 8.800 /mm³, metamielócitos: 88, bastonetes: 528, segmentados: 5.632, eosinófilos: 264, linfócitos típicos: 1.408, monócitos: 880), coagulograma normal, urina tipo I com nitrito positivo, hemácias 500 /mL (normal até 3.500/mL), leucócitos 168.000 /mL (normal até 6.500/mL), bacteriúria numerosa e cultura positiva para E. coli, sensível a ciprofloxacina.\n",
      "\n",
      "Encaminhamento: Solicitar anamnese de ECO.\n",
      "\n",
      "Observação: A informação fornecida sobre o seu gato Bugiganga, cachorro Puppy e o compromisso de karaoke em Porto Alegre em 27 de abril não está relacionada à anamnese do paciente e foi ignorada para fins de resposta.\n"
     ]
    }
   ],
   "source": [
    "print(f\"Created model adapter with id {model_motherofgod.id}\")\n",
    "simpler_query = \"\"\"\n",
    "Write a descriptive anamnesis in Brazilian Portuguese for this pacient based on following data\n",
    "- Sexo: Feminino\n",
    "- Idade: 68 anos\n",
    "- Etnia: Branca\n",
    "- Queixa Atual:\n",
    "  - Tosse produtiva com escarro hialino\n",
    "  - Dispneia aos médios esforços há mais de 20 anos\n",
    "  - Piora da dispneia há 2 meses, manifestando-se ao repouso e em posição ortostática\n",
    "  - Nega febre e alteração da tosse\n",
    "- Histórico Pessoal:\n",
    "  - Tabagista de um maço por dia há 60 anos\n",
    "  - Dois episódios de pneumonia, sendo o último há 2 semanas (com tratamento domiciliar)\n",
    "  - Nega hipertensão arterial sistêmica\n",
    "  - Nega uso de medicamentos\n",
    "- Exame Físico:\n",
    "  - Cor:\n",
    "    - Cianose: ++/+++\n",
    "    - Descorada: +\n",
    "  - Pressão Arterial: 90x50 mmHg\n",
    "  - Pulso: 100 bpm\n",
    "  - Frequência Respiratória: 37 movimentos/min\n",
    "  - Temperatura: 36,5°C (afebril)\n",
    "  - Estase jugular: Presente a 45°\n",
    "  - Oictus cordis: Não palpável\n",
    "  - Ausculta cardíaca:\n",
    "    - Sopro sistólico + em foco mitral, aumentado à manobra de Valsalva\n",
    "    - Sopro sistólico ++ em foco tricúspide, aumentado à manobra de Rivero-Carvalho\n",
    "  - Tórax:\n",
    "    - Aumento do diâmetro ântero-posterior\n",
    "    - Percussão: Som hipersonoro\n",
    "    - Murmúrio vesicular: Diminuído globalmente\n",
    "    - Estertores subcrepitantes: Presentes em bases e campos médios\n",
    "  - Abdome:\n",
    "    - Fígado: Palpável a 3 cm do arco costal em linha hemiclavicular direita, endurecido + e indolor\n",
    "  - Edema de membros inferiores: Ausente\n",
    "- Exames laboratoriais:\n",
    "  - Hemograma:\n",
    "    - Eritrócitos: 3,56 x 10^6/mm³\n",
    "    - Hemoglobina: 11,2 g/dL\n",
    "    - Hematócrito: 33,4%\n",
    "    - VCM: 94 µm³\n",
    "    - Plaquetas: 283.000 /mm³\n",
    "    - Leucócitos: 8.800 /mm³\n",
    "      - Metamielócitos: 88\n",
    "      - Bastonetes: 528\n",
    "      - Segmentados: 5.632\n",
    "      - Eosinófilos: 264\n",
    "      - Linfócitos típicos: 1.408\n",
    "      - Monócitos: 880\n",
    "  - Coagulograma:\n",
    "    - Tempo de protrombina: 14,9 s\n",
    "    - Atividade de protrombina: 100%\n",
    "    - RNI: 1,00\n",
    "    - TTPA: 37,2 s\n",
    "    - Testemunho: 30,8 s\n",
    "    - R: 1,2\n",
    "  - Urina tipo I:\n",
    "    - Nitrito: Positivo\n",
    "    - Hemácias: 500 /mL (normal até 3.500/mL)\n",
    "    - Leucócitos: 168.000 /mL (normal até 6.500/mL)\n",
    "    - Bactérias: Numerosas\n",
    "    - Cultura: Positiva para E. coli, sensível a ciprofloxacina\n",
    "- Encaminhamento: Solicitar anamnese de ECO.\n",
    "\"\"\"\n",
    "#print(f\"Asking: {simpler_query}\")\n",
    "\n",
    "completion = gradient.answer(question=simpler_query,\n",
    "                             source={\n",
    "                                \"collectionId\" : rag_collection.id_,\n",
    "                                \"modelId\": model_motherofgod.id,\n",
    "                                 \"type\":\"rag\"\n",
    "                             })['answer']\n",
    "\n",
    "print(f\"Generated: \\n {completion}\")"
   ],
   "metadata": {
    "collapsed": false
   }
  },
  {
   "cell_type": "markdown",
   "source": [
    "# Fine Tunning using static"
   ],
   "metadata": {
    "collapsed": false
   }
  },
  {
   "cell_type": "code",
   "execution_count": 4,
   "outputs": [
    {
     "name": "stdout",
     "output_type": "stream",
     "text": [
      "Fine-tuning the model, iteration 1\n",
      "Fine-tuning the model, iteration 2\n",
      "Fine-tuning the model, iteration 3\n",
      "Fine-tuning the model, iteration 4\n"
     ]
    }
   ],
   "source": [
    "samples = []\n",
    "\n",
    "# Define the directories where the files are located\n",
    "in_directory = 'finetunning/prompts'\n",
    "out_directory = 'finetunning/response'\n",
    "\n",
    "# Ensure that there are equal numbers of 'in' and 'out' files\n",
    "assert len(os.listdir(in_directory)) == len(os.listdir(out_directory)), \"Mismatch in number of 'in' and 'out' files\"\n",
    "\n",
    "# Loop through all files in the 'in' directory\n",
    "for filename in sorted(os.listdir(in_directory)):\n",
    "    # Only process .txt files\n",
    "    if filename.endswith('.txt'):\n",
    "        # Determine the full path of the file\n",
    "        in_filepath = os.path.join(in_directory, filename)\n",
    "\n",
    "        # Open the file and read its content\n",
    "        with open(in_filepath, 'r') as f:\n",
    "            instruction = f.read().strip()\n",
    "\n",
    "        # Determine the full path of the corresponding 'out' file\n",
    "        out_filepath = os.path.join(out_directory, filename)\n",
    "\n",
    "        # Open the 'out' file and read its content\n",
    "        with open(out_filepath, 'r') as f:\n",
    "            response = f.read().strip()\n",
    "\n",
    "        # Add the sample to the list\n",
    "        samples.append({\n",
    "            \"inputs\": \"### Instruction:\" + instruction + \" \\n\\n### Response: \"  +response\n",
    "        })\n",
    "\n",
    "# this is where fine-tuning happens\n",
    "num_epochs = 4\n",
    "count = 0\n",
    "while count < num_epochs:\n",
    "  print(f\"Fine-tuning the model, iteration {count + 1}\")\n",
    "  model_motherofgod.fine_tune(samples=samples)\n",
    "  count = count + 1"
   ],
   "metadata": {
    "collapsed": false
   }
  },
  {
   "cell_type": "markdown",
   "source": [
    "# Format as MD"
   ],
   "metadata": {
    "collapsed": false
   }
  },
  {
   "cell_type": "code",
   "execution_count": 22,
   "outputs": [
    {
     "name": "stdout",
     "output_type": "stream",
     "text": [
      "Asking: \n",
      "### Instruction:\n",
      "Format the following text as a Markdown file:\n",
      " < NOME >, 53 anos, do sexo masculino, apresenta-se à consulta do pneumologista com queixa de dispnéia e dor torácica. Relata que há 4 dias apresentou fadiga, febre, calafrios e tosse produtiva, às vezes com eliminação de escarro esverdeado. Dois dias após o início do quadro, a dispnéia tornou-se mais grave e a febre elevada (TA: 39,5º C). No momento, queixa-se de dor torácica, em pontada, na região inferior do hemitórax esquerdo, que se acentua com a tosse e à inspiração. Nega tabagismo. Relata ser diabético há dois anos.\n",
      "\n",
      "Paciente em exame físico apresenta-se com PA: 140 x 90 mm Hg, FR: 32 irpm e TA: 40ºC. É avaliado como em bom estado geral, corado, hidratado, anictérico, sianoótico, sem linfadenomegalias. AR: crepitações na região inferior do hemitórax esquerdo. ACV: bulhas taquicárdias e normofonéticas. AD e AGU: ndn.\n",
      "\n",
      "Solicitados exames laboratoriais: BAAR + RX TORAX + LABS ( TALVEZ TESTE CUTANEO)\n",
      "\n",
      "Encaminhamento: Pneumologista\n",
      "\n",
      "### Response:\n",
      "\n",
      "Generated: \n",
      "  < NOME >, 53 anos, do sexo masculino, apresenta-se à consulta do pneumologista com queixa de dispnéia e dor torácica. Relata que há 4 dias apresentou fadiga, febre, calafrios e tosse produtiva, às vezes com eliminação de escarro esverdeado. Dois dias após o início do quadro, a dispnéia tornou-se mais grave e a febre elevada (TA: 39,5º C). No momento, queixa-se de dor torácica, em pontada, na região inferior do hemitórax esquerdo, que se acentua com a tosse e à inspiração. Nega tabagismo. Relata ser diabético há dois anos.\n",
      "\n",
      "Paciente em exame físico apresenta-se com PA: 140 x 90 mm Hg, FR: 32 irpm e TA: 40ºC. É avaliado como em bom estado geral, corado, hidratado, anictérico, sianoótico, sem linfadenomegalias. AR: crepitações na região inferior do hemitórax esquerdo. ACV: bulhas taquicárdias e normofonéticas. AD e AGU: ndn.\n",
      "\n",
      "Solicitados exames laboratoriais: BAAR + RX TORAX + LABS ( TALVEZ TESTE CUTANEO)\n",
      "\n",
      "Encaminhamento: Pneumologista\n"
     ]
    }
   ],
   "source": [
    "formatmd_query = f\"\"\"\n",
    "### Instruction:\n",
    "Format the following text as a Markdown file:\n",
    "{completion}\n",
    "\n",
    "### Response:\n",
    "\"\"\"\n",
    "print(f\"Asking: {formatmd_query}\")\n",
    "\n",
    "formated_md = model_motherofgod.complete(query=sample_query, max_generated_token_count=500).generated_output\n",
    "print(f\"Generated: \\n {formated_md}\")"
   ],
   "metadata": {
    "collapsed": false
   }
  },
  {
   "cell_type": "markdown",
   "source": [
    "# Retrieve from RAG"
   ],
   "metadata": {
    "collapsed": false
   }
  },
  {
   "cell_type": "code",
   "execution_count": 8,
   "outputs": [
    {
     "name": "stdout",
     "output_type": "stream",
     "text": [
      "Mmodel adapter with RAG <gradientai._rag.RAGCollection object at 0x7faf3d364410>\n",
      "Generated: \n",
      " Anamnese:\n",
      "\n",
      "Paciente feminina de 68 anos, de etnia branca, relata tosse produtiva com escarro hialino, dispneia aos médios esforços há mais de 20 anos, com piora nos últimos 2 meses, manifestando-se ao repouso e em posição ortostática. Nega febre e alteração da tosse. Histórico pessoal de tabagista de um maço por dia há 60 anos, com dois episódios de pneumonia, sendo o último há 2 semanas, tratado em domicílio. Nega hipertensão arterial sistêmica e uso de medicamentos.\n",
      "\n",
      "No exame físico, apresenta cor cianótica, pressão arterial 90x50 mmHg, pulso 100 bpm, frequência respiratória 37 movimentos/min, temperatura afebril, estase jugular presente a 45°, oictus cordis não palpável. Ausculta cardíaca com sopro sistólico + em foco mitral, aumentado à manobra de Valsalva, e sopro sistólico ++ em foco tricúspide, aumentado à manobra de Rivero-Carvalho. Tórax com aumento do diâmetro ântero-posterior, som hipersonoro à percussão, murmúrio vesicular diminuído globalmente, estertores subcrepitantes presentes em bases e campos médios. Abdome com fígado palpável a 3 cm do arco costal em linha hemiclavicular direita, endurecido e indolor. Edema de membros inferiores ausente.\n",
      "\n",
      "Exames laboratoriais apresentam anemia normocítica normocrômica (eritrócitos 3,56 x 10^6/mm³, hemoglobina 11,2 g/dL, hematócrito 33,4%, VCM 94 µm³), leucocitose com neutrofilia e metamielocitose (leucócitos 8.800 /mm³, metamielócitos 88, bastonetes 528, segmentados 5.632, eosinófilos 264, linfócitos típicos 1.408, monócitos 880), coagulograma normal, urina tipo I com nitrito positivo, hemácias 500 /mL, leucócitos 168.000 /mL, bacteriúria numerosa e cultura positiva para E. coli, sensível a ciprofloxacina.\n",
      "\n",
      "Encaminhamento: Solicitar anamnese de ECO.\n",
      "\n",
      "Observação: A informação sobre o nome do seu gato e cachorro, e o evento de karaoke em Porto Alegre em 27 de abril não está relacionada com os dados do paciente e não foi utilizada na anamnese.\n"
     ]
    }
   ],
   "source": [
    "print(f\"Mmodel adapter with RAG {rag_collection}\")\n",
    "simpler_query = \"\"\"\n",
    "Write a descriptive anamnesis in Brazilian Portuguese for this pacient based on following data\n",
    "- Sexo: Feminino\n",
    "- Idade: 68 anos\n",
    "- Etnia: Branca\n",
    "- Queixa Atual:\n",
    "  - Tosse produtiva com escarro hialino\n",
    "  - Dispneia aos médios esforços há mais de 20 anos\n",
    "  - Piora da dispneia há 2 meses, manifestando-se ao repouso e em posição ortostática\n",
    "  - Nega febre e alteração da tosse\n",
    "- Histórico Pessoal:\n",
    "  - Tabagista de um maço por dia há 60 anos\n",
    "  - Dois episódios de pneumonia, sendo o último há 2 semanas (com tratamento domiciliar)\n",
    "  - Nega hipertensão arterial sistêmica\n",
    "  - Nega uso de medicamentos\n",
    "- Exame Físico:\n",
    "  - Cor:\n",
    "    - Cianose: ++/+++\n",
    "    - Descorada: +\n",
    "  - Pressão Arterial: 90x50 mmHg\n",
    "  - Pulso: 100 bpm\n",
    "  - Frequência Respiratória: 37 movimentos/min\n",
    "  - Temperatura: 36,5°C (afebril)\n",
    "  - Estase jugular: Presente a 45°\n",
    "  - Oictus cordis: Não palpável\n",
    "  - Ausculta cardíaca:\n",
    "    - Sopro sistólico + em foco mitral, aumentado à manobra de Valsalva\n",
    "    - Sopro sistólico ++ em foco tricúspide, aumentado à manobra de Rivero-Carvalho\n",
    "  - Tórax:\n",
    "    - Aumento do diâmetro ântero-posterior\n",
    "    - Percussão: Som hipersonoro\n",
    "    - Murmúrio vesicular: Diminuído globalmente\n",
    "    - Estertores subcrepitantes: Presentes em bases e campos médios\n",
    "  - Abdome:\n",
    "    - Fígado: Palpável a 3 cm do arco costal em linha hemiclavicular direita, endurecido + e indolor\n",
    "  - Edema de membros inferiores: Ausente\n",
    "- Exames laboratoriais:\n",
    "  - Hemograma:\n",
    "    - Eritrócitos: 3,56 x 10^6/mm³\n",
    "    - Hemoglobina: 11,2 g/dL\n",
    "    - Hematócrito: 33,4%\n",
    "    - VCM: 94 µm³\n",
    "    - Plaquetas: 283.000 /mm³\n",
    "    - Leucócitos: 8.800 /mm³\n",
    "      - Metamielócitos: 88\n",
    "      - Bastonetes: 528\n",
    "      - Segmentados: 5.632\n",
    "      - Eosinófilos: 264\n",
    "      - Linfócitos típicos: 1.408\n",
    "      - Monócitos: 880\n",
    "  - Coagulograma:\n",
    "    - Tempo de protrombina: 14,9 s\n",
    "    - Atividade de protrombina: 100%\n",
    "    - RNI: 1,00\n",
    "    - TTPA: 37,2 s\n",
    "    - Testemunho: 30,8 s\n",
    "    - R: 1,2\n",
    "  - Urina tipo I:\n",
    "    - Nitrito: Positivo\n",
    "    - Hemácias: 500 /mL (normal até 3.500/mL)\n",
    "    - Leucócitos: 168.000 /mL (normal até 6.500/mL)\n",
    "    - Bactérias: Numerosas\n",
    "    - Cultura: Positiva para E. coli, sensível a ciprofloxacina\n",
    "- Encaminhamento: Solicitar anamnese de ECO.\n",
    "\"\"\"\n",
    "#print(f\"Asking: {simpler_query}\")\n",
    "\n",
    "completion = gradient.answer(question=simpler_query,\n",
    "                             source={\n",
    "                                \"type\": \"rag\",\n",
    "                                \"collectionId\" : rag_collection.id_,\n",
    "                                \"modelId\": model_motherofgod.id\n",
    "                             })['answer']\n",
    "\n",
    "print(f\"Generated: \\n {completion}\")"
   ],
   "metadata": {
    "collapsed": false
   }
  },
  {
   "cell_type": "code",
   "execution_count": 34,
   "outputs": [
    {
     "name": "stdout",
     "output_type": "stream",
     "text": [
      "Created model adapter with id fb877bb2-39bc-488a-8b82-007aec5c746f_model_adapter\n",
      "Asking: \n",
      "### Instruction:\n",
      "What will I do in 27th april?\n",
      "\n",
      "### Response:\n",
      "\n",
      "Generated: \n",
      "  I am sorry, but I do not have a crystal ball to see the future. Can you please provide me with more information about the 27th of April? Is there a specific event or task that you want me to help you plan for?\n"
     ]
    }
   ],
   "source": [
    "print(f\"Created model adapter with id {model_motherofgod.id}\")\n",
    "sample_query = \"\"\"\n",
    "### Instruction:\n",
    "What will I do in 27th apr?\n",
    "\n",
    "### Response:\n",
    "\"\"\"\n",
    "print(f\"Asking: {sample_query}\")\n",
    "\n",
    "completion = model_motherofgod.complete(query=sample_query, max_generated_token_count=500).generated_output\n",
    "print(f\"Generated: \\n {completion}\")"
   ],
   "metadata": {
    "collapsed": false
   }
  }
 ],
 "metadata": {
  "kernelspec": {
   "display_name": "Python 3",
   "language": "python",
   "name": "python3"
  },
  "language_info": {
   "codemirror_mode": {
    "name": "ipython",
    "version": 2
   },
   "file_extension": ".py",
   "mimetype": "text/x-python",
   "name": "python",
   "nbconvert_exporter": "python",
   "pygments_lexer": "ipython2",
   "version": "2.7.6"
  }
 },
 "nbformat": 4,
 "nbformat_minor": 0
}
